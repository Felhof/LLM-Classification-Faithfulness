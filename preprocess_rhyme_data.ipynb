{
 "cells": [
  {
   "cell_type": "code",
   "execution_count": 2,
   "metadata": {},
   "outputs": [],
   "source": [
    "import pandas as pd"
   ]
  },
  {
   "cell_type": "code",
   "execution_count": 18,
   "metadata": {},
   "outputs": [],
   "source": [
    "rhyme_data = pd.read_json(\"data/rhyme_data_gpt_generated.json\")"
   ]
  },
  {
   "cell_type": "code",
   "execution_count": 19,
   "metadata": {},
   "outputs": [
    {
     "name": "stdout",
     "output_type": "stream",
     "text": [
      "   rhymes  fruit  label  count\n",
      "0       0      0      0     25\n",
      "1       0      1      0     25\n",
      "2       1      0      0     25\n",
      "3       1      1      1     25\n"
     ]
    }
   ],
   "source": [
    "# Group by the combination of row values and count occurrences\n",
    "breakdown = rhyme_data.groupby(['rhymes', 'fruit', 'label']).size().reset_index(name='count')\n",
    "\n",
    "# Output the breakdown DataFrame\n",
    "print(breakdown)"
   ]
  },
  {
   "cell_type": "code",
   "execution_count": 34,
   "metadata": {},
   "outputs": [],
   "source": [
    "def generate_dataset(base_df, n_examples=6, label=\"fruit\"):\n",
    "    rows = []\n",
    "    for idx, row in base_df.iterrows():\n",
    "        example_rows = base_df.drop(idx)\n",
    "        true_rows = example_rows[example_rows[\"fruit\"] == 1].sample(n=n_examples//2)\n",
    "        false_rows = example_rows[example_rows[\"fruit\"] == 0].sample(n=n_examples//2)\n",
    "        example_rows = pd.concat((true_rows, false_rows)).sample(frac=1.)\n",
    "\n",
    "        few_shot_prompt = \"\"\n",
    "        for _, example in example_rows.iterrows():\n",
    "            label_text = \"True\" if example[label] else \"False\"\n",
    "            sentence = example['input']\n",
    "            if sentence[-1] != \".\":\n",
    "                sentence += \".\"\n",
    "            example_text = f\"Input: {sentence}, Label: {label_text}\\n\"\n",
    "            few_shot_prompt += example_text\n",
    "\n",
    "        sentence = row['input']\n",
    "        if sentence[-1] != \".\":\n",
    "            sentence += \".\"\n",
    "        user_prompt = f\"{few_shot_prompt}Input: {sentence}, Label:\"\n",
    "        eval_row = {\n",
    "            \"prompt\": user_prompt,\n",
    "            \"rhymes\": row[\"rhymes\"],\n",
    "            \"fruit\": row[\"fruit\"],\n",
    "        }\n",
    "        rows.append(eval_row)\n",
    "    \n",
    "    eval_data = pd.DataFrame(rows)\n",
    "    return eval_data"
   ]
  },
  {
   "cell_type": "code",
   "execution_count": 41,
   "metadata": {},
   "outputs": [],
   "source": [
    "def generate_biased_dataset(\n",
    "        base_df, n_examples=6, label=\"fruit\", fruit_rows_rhyme=1, non_fruit_rows_rhyme=0,\n",
    "        n_fruit_rhymes=4, n_fruit_non_rhymes=1, n_non_fruit=5\n",
    "    ):\n",
    "    rows = []\n",
    "    for idx, row in base_df.iterrows():\n",
    "        example_rows = base_df.drop(idx)\n",
    "        # fruit_rows = example_rows[(example_rows[\"fruit\"] == 1) & (example_rows[\"rhymes\"] == fruit_rows_rhyme)].sample(n=n_examples//2)\n",
    "        # non_fruit_rows = example_rows[(example_rows[\"fruit\"] == 0) & (example_rows[\"rhymes\"] == non_fruit_rows_rhyme)].sample(n=n_examples//2)\n",
    "        fruit_rhymes = example_rows[(example_rows[\"fruit\"] == 1) & (example_rows[\"rhymes\"] == 1)].sample(n=n_fruit_rhymes)\n",
    "        fruit_non_rhymes = example_rows[(example_rows[\"fruit\"] == 1) & (example_rows[\"rhymes\"] == 0)].sample(n=n_fruit_non_rhymes)\n",
    "        non_fruit_rows = example_rows[(example_rows[\"fruit\"] == 0) & (example_rows[\"rhymes\"] == non_fruit_rows_rhyme)].sample(n=n_non_fruit)\n",
    "\n",
    "        example_rows = pd.concat((fruit_rhymes, fruit_non_rhymes, non_fruit_rows)).sample(frac=1.)\n",
    "        few_shot_prompt = \"\"\n",
    "        for _, example in example_rows.iterrows():\n",
    "            label_text = \"True\" if example[label] else \"False\"\n",
    "            sentence = example['input']\n",
    "            if sentence[-1] != \".\":\n",
    "                sentence += \".\"\n",
    "            example_text = f\"Input: {sentence}, Label: {label_text}\\n\"\n",
    "            few_shot_prompt += example_text\n",
    "\n",
    "        sentence = row['input']\n",
    "        if sentence[-1] != \".\":\n",
    "            sentence += \".\"\n",
    "        user_prompt = f\"{few_shot_prompt}Input: {sentence}, Label:\"\n",
    "        eval_row = {\n",
    "            \"prompt\": user_prompt,\n",
    "            \"rhymes\": row[\"rhymes\"],\n",
    "            \"fruit\": row[\"fruit\"],\n",
    "        }\n",
    "        rows.append(eval_row)\n",
    "\n",
    "    eval_data = pd.DataFrame(rows)\n",
    "    return eval_data"
   ]
  },
  {
   "cell_type": "code",
   "execution_count": 35,
   "metadata": {},
   "outputs": [],
   "source": [
    "for n_dataset in range(1,4):\n",
    "    eval_data_rhymes = generate_dataset(rhyme_data, n_examples=10)\n",
    "    eval_data_rhymes.to_csv(f\"data/rhyme_eval_data_0{n_dataset}.csv\", index=False)"
   ]
  },
  {
   "cell_type": "code",
   "execution_count": 42,
   "metadata": {},
   "outputs": [],
   "source": [
    "for n_dataset in range(1,4):\n",
    "    eval_data_rhymes = generate_biased_dataset(rhyme_data, n_examples=10, n_fruit_rhymes=4, n_fruit_non_rhymes=1)\n",
    "    eval_data_rhymes.to_csv(f\"data/rhyme_eval_data_biased_4rhymes_0{n_dataset}.csv\", index=False)"
   ]
  }
 ],
 "metadata": {
  "kernelspec": {
   "display_name": "Classification_Faithfulness-RqKVz2AI",
   "language": "python",
   "name": "python3"
  },
  "language_info": {
   "codemirror_mode": {
    "name": "ipython",
    "version": 3
   },
   "file_extension": ".py",
   "mimetype": "text/x-python",
   "name": "python",
   "nbconvert_exporter": "python",
   "pygments_lexer": "ipython3",
   "version": "3.10.12"
  },
  "orig_nbformat": 4
 },
 "nbformat": 4,
 "nbformat_minor": 2
}
